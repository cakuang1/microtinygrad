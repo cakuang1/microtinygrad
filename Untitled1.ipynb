{
 "cells": [
  {
   "cell_type": "markdown",
   "id": "f31cad78",
   "metadata": {},
   "source": [
    "##  Neural Network from Scratch (and Numpy)"
   ]
  },
  {
   "cell_type": "code",
   "execution_count": 1,
   "id": "757413d0",
   "metadata": {},
   "outputs": [],
   "source": [
    "import numpy as np\n",
    "import pandas as pd\n",
    "import activation\n",
    "import data\n",
    "\n",
    "\n"
   ]
  },
  {
   "cell_type": "markdown",
   "id": "50c3b449",
   "metadata": {},
   "source": [
    "#  Forward Propagation"
   ]
  },
  {
   "attachments": {},
   "cell_type": "markdown",
   "id": "efca30f4",
   "metadata": {},
   "source": [
    "Lets first take a look at an example of forward propogation with one image"
   ]
  },
  {
   "cell_type": "code",
   "execution_count": 3,
   "id": "131a5dda",
   "metadata": {},
   "outputs": [
    {
     "data": {
      "text/plain": [
       "0.7310585786300049"
      ]
     },
     "execution_count": 3,
     "metadata": {},
     "output_type": "execute_result"
    }
   ],
   "source": [
    "activation.sigmoid(1)"
   ]
  },
  {
   "cell_type": "code",
   "execution_count": 11,
   "id": "57cf27ef",
   "metadata": {},
   "outputs": [],
   "source": [
    "import os\n",
    "import torch\n",
    "from torch import nn\n",
    "from torch.utils.data import DataLoader\n",
    "from torchvision import datasets, transforms"
   ]
  },
  {
   "cell_type": "markdown",
   "id": "f4aeb4a0",
   "metadata": {},
   "source": [
    "The example we will be using in this will the MNIST dataset\n",
    "\n",
    "\n"
   ]
  },
  {
   "cell_type": "code",
   "execution_count": 2,
   "id": "d9129f35",
   "metadata": {},
   "outputs": [
    {
     "ename": "NameError",
     "evalue": "name 'nn' is not defined",
     "output_type": "error",
     "traceback": [
      "\u001b[1;31m---------------------------------------------------------------------------\u001b[0m",
      "\u001b[1;31mNameError\u001b[0m                                 Traceback (most recent call last)",
      "Cell \u001b[1;32mIn[2], line 1\u001b[0m\n\u001b[1;32m----> 1\u001b[0m \u001b[39mclass\u001b[39;00m \u001b[39mNeuralNetwork\u001b[39;00m(nn\u001b[39m.\u001b[39mModule):\n\u001b[0;32m      2\u001b[0m     \u001b[39mdef\u001b[39;00m \u001b[39m__init__\u001b[39m(\u001b[39mself\u001b[39m):\n\u001b[0;32m      3\u001b[0m         \u001b[39msuper\u001b[39m()\u001b[39m.\u001b[39m\u001b[39m__init__\u001b[39m()\n",
      "\u001b[1;31mNameError\u001b[0m: name 'nn' is not defined"
     ]
    }
   ],
   "source": [
    "class NeuralNetwork(nn.Module):\n",
    "    def __init__(self):\n",
    "        super().__init__()\n",
    "        self.flatten = nn.Flatten()\n",
    "        self.linear_relu_stack = nn.Sequential(\n",
    "            nn.Linear(28*28, 512),\n",
    "            nn.ReLU(),\n",
    "            nn.Linear(512, 512),\n",
    "            nn.ReLU(),\n",
    "            nn.Linear(512, 10),\n",
    "        )\n",
    "\n",
    "    def forward(self, x):\n",
    "        x = self.flatten(x)\n",
    "        logits = self.linear_relu_stack(x)\n",
    "        return logits\n"
   ]
  },
  {
   "cell_type": "code",
   "execution_count": null,
   "id": "97fee37b",
   "metadata": {},
   "outputs": [],
   "source": []
  },
  {
   "cell_type": "code",
   "execution_count": 3,
   "id": "d187d7d0",
   "metadata": {},
   "outputs": [],
   "source": [
    "\n",
    "## Implementing the class for each layer\n",
    "class Layer:\n",
    "    def __init__(self,inputneurons,neurons) -> None:\n",
    "        self.weights = np.random.rand(inputneurons,neurons)\n",
    "        self.biases = np.random.rand(neurons)\n",
    "    def forward(self,input):\n",
    "            return np.dot(self.weights.T,input,)\n",
    "    \n",
    "\n",
    "\n",
    "    \n",
    "    \n",
    "\n",
    "\n"
   ]
  },
  {
   "cell_type": "code",
   "execution_count": 9,
   "id": "efeee15f",
   "metadata": {},
   "outputs": [
    {
     "name": "stdout",
     "output_type": "stream",
     "text": [
      "[0.34244715 0.65755285]\n",
      "[[0.19300681 0.17582099 0.21093236]\n",
      " [0.13962795 0.65450455 0.25755075]]\n"
     ]
    }
   ],
   "source": [
    "## Forward propogation of one image with layers  2 3 3 2 \n",
    "\n",
    "\n",
    "input = [2,3]\n",
    "layer1 = Layer(2,3)\n",
    "layer2 = Layer(3,2)\n",
    "\n",
    "\n",
    "s1 = layer1.forward(input)\n",
    "a1 = activation.sigmoid(s1)\n",
    "s2 = layer2.forward(a1)\n",
    "output = activation.softmax(s2)\n",
    "\n",
    "print(output)\n",
    "\n",
    "\n",
    "case1 = [1,0]\n",
    "case2 = [0,1]\n",
    "\n",
    "loss = -np.log(output)\n",
    "print(layer1.weights)\n",
    "\n",
    "\n",
    "\n",
    "\n",
    "## solving for first outputdelta\n",
    "\n",
    "\n",
    "\n",
    "## Delta for the output layer\n",
    "\n",
    "\n",
    "# (s - w) \n",
    "\n",
    "\n",
    "\n",
    "\n",
    "# partial for the output layer w1 * a * (s - w)\n",
    "\n",
    "# w1 * a * () \n",
    "\n",
    "\n",
    "# partial for the \n",
    "\n",
    "\n",
    "# partial for the inner layer \n",
    "\n",
    "\n",
    "\n",
    "\n",
    "\n",
    "'https://stats.stackexchange.com/questions/235528/backpropagation-with-softmax-cross-entropy'\n",
    "\n",
    "\n"
   ]
  },
  {
   "cell_type": "code",
   "execution_count": 17,
   "id": "26c27295",
   "metadata": {},
   "outputs": [
    {
     "name": "stdout",
     "output_type": "stream",
     "text": [
      "tensor(1., requires_grad=True)\n",
      "tensor(0., requires_grad=True)\n",
      "tensor(11., grad_fn=<AddBackward0>)\n",
      "Partial derivative with respect to u:  tensor(1.)\n",
      "Partial derivative with respect to v:  tensor(2.)\n"
     ]
    }
   ],
   "source": [
    "\n",
    "x1 = torch.tensor(1., requires_grad=True)\n",
    "x2 = torch.tensor(2., requires_grad=True)\n",
    "w1 = torch.tensor(3., requires_grad=True)\n",
    "w2 = torch.tensor(4., requires_grad=True)\n",
    "\n",
    "f = x1 * w1 + x2 * w2\n",
    "\n",
    "f2 =\n",
    "\n",
    " \n",
    "\n",
    " \n",
    "print(u)\n",
    "print(v)\n",
    "print(f)\n",
    " \n",
    "\n",
    "\n",
    "f.backward()\n",
    "print(\"Partial derivative with respect to u: \", w1.grad)\n",
    "print(\"Partial derivative with respect to v: \", w2.grad)\n",
    "\n"
   ]
  },
  {
   "cell_type": "code",
   "execution_count": 18,
   "id": "012547c6",
   "metadata": {},
   "outputs": [],
   "source": [
    "m = nn.Softmax(dim=1)\n",
    "input = torch.randn(2, 3)\n",
    "output = m(input)"
   ]
  },
  {
   "cell_type": "code",
   "execution_count": 19,
   "id": "9f174b86",
   "metadata": {},
   "outputs": [
    {
     "data": {
      "text/plain": [
       "tensor([[0.2740, 0.5084, 0.2176],\n",
       "        [0.2840, 0.0997, 0.6163]])"
      ]
     },
     "execution_count": 19,
     "metadata": {},
     "output_type": "execute_result"
    }
   ],
   "source": [
    "output"
   ]
  },
  {
   "cell_type": "code",
   "execution_count": null,
   "id": "1244613d",
   "metadata": {},
   "outputs": [],
   "source": []
  }
 ],
 "metadata": {
  "kernelspec": {
   "display_name": "Python 3 (ipykernel)",
   "language": "python",
   "name": "python3"
  },
  "language_info": {
   "codemirror_mode": {
    "name": "ipython",
    "version": 3
   },
   "file_extension": ".py",
   "mimetype": "text/x-python",
   "name": "python",
   "nbconvert_exporter": "python",
   "pygments_lexer": "ipython3",
   "version": "3.11.3"
  }
 },
 "nbformat": 4,
 "nbformat_minor": 5
}
