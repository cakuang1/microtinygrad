{
 "cells": [
  {
   "cell_type": "code",
   "execution_count": 2,
   "metadata": {},
   "outputs": [
    {
     "name": "stdout",
     "output_type": "stream",
     "text": [
      "True\n"
     ]
    }
   ],
   "source": [
    "from kafka import KafkaProducer,KafkaConsumer \n",
    "from json import dumps\n",
    "\n",
    " \n",
    "producer = KafkaProducer(\n",
    "  bootstrap_servers=['equal-owl-9135-us1-kafka.upstash.io:9092'],\n",
    "  sasl_mechanism='SCRAM-SHA-256',\n",
    "  security_protocol='SASL_SSL',\n",
    "  sasl_plain_username='ZXF1YWwtb3dsLTkxMzUkXx5J8vYxwycFJ6cLxNilKEWjb-e9US4xNfsLc0abcOo',\n",
    "  sasl_plain_password='7fec0720487b457ebf40b0a83c086ef7',\n",
    "  value_serializer=lambda x: dumps(x).encode('utf-8'),\n",
    ")\n",
    "\n",
    "print(producer.bootstrap_connected())\n",
    "for e in range(10):\n",
    "    data = {'number' : e}\n",
    "    producer.send('stockquotes', value=data)\n",
    "\n",
    "\n",
    "\n",
    "\n",
    "\n",
    "\n",
    "\n",
    "producer.close()"
   ]
  },
  {
   "cell_type": "code",
   "execution_count": null,
   "metadata": {},
   "outputs": [],
   "source": [
    " \n",
    "consumer = KafkaConsumer(\n",
    "  bootstrap_servers=['equal-owl-9135-us1-kafka.upstash.io:9092'],\n",
    "  sasl_mechanism='SCRAM-SHA-256',\n",
    "  security_protocol='SASL_SSL',\n",
    "  sasl_plain_username='ZXF1YWwtb3dsLTkxMzUkXx5J8vYxwycFJ6cLxNilKEWjb-e9US4xNfsLc0abcOo',\n",
    "  sasl_plain_password='7fec0720487b457ebf40b0a83c086ef7',\n",
    "  group_id='$GROUP_NAME',\n",
    "  auto_offset_reset='earliest',\n",
    ")\n",
    "\n",
    "consumer\n",
    "\n",
    "\n",
    "\n",
    "\n",
    "\n",
    "\n",
    "\n",
    "\n",
    "consumer.close()"
   ]
  }
 ],
 "metadata": {
  "kernelspec": {
   "display_name": "Python 3",
   "language": "python",
   "name": "python3"
  },
  "language_info": {
   "codemirror_mode": {
    "name": "ipython",
    "version": 3
   },
   "file_extension": ".py",
   "mimetype": "text/x-python",
   "name": "python",
   "nbconvert_exporter": "python",
   "pygments_lexer": "ipython3",
   "version": "3.11.3"
  },
  "orig_nbformat": 4
 },
 "nbformat": 4,
 "nbformat_minor": 2
}
