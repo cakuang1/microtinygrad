{
 "cells": [
  {
   "cell_type": "code",
   "execution_count": 19,
   "metadata": {},
   "outputs": [
    {
     "ename": "ModuleNotFoundError",
     "evalue": "No module named 'sklearn'",
     "output_type": "error",
     "traceback": [
      "\u001b[1;31m---------------------------------------------------------------------------\u001b[0m",
      "\u001b[1;31mModuleNotFoundError\u001b[0m                       Traceback (most recent call last)",
      "Cell \u001b[1;32mIn[19], line 4\u001b[0m\n\u001b[0;32m      1\u001b[0m \u001b[39mimport\u001b[39;00m \u001b[39mpandas\u001b[39;00m \u001b[39mas\u001b[39;00m \u001b[39mpd\u001b[39;00m\n\u001b[0;32m      2\u001b[0m \u001b[39mimport\u001b[39;00m \u001b[39mnumpy\u001b[39;00m \u001b[39mas\u001b[39;00m \u001b[39mnp\u001b[39;00m\n\u001b[1;32m----> 4\u001b[0m \u001b[39mfrom\u001b[39;00m \u001b[39msklearn\u001b[39;00m\u001b[39m.\u001b[39;00m\u001b[39mpreprocessing\u001b[39;00m \u001b[39mimport\u001b[39;00m OneHotEncoder\n",
      "\u001b[1;31mModuleNotFoundError\u001b[0m: No module named 'sklearn'"
     ]
    }
   ],
   "source": [
    "import pandas as pd\n",
    "import numpy as np\n",
    "\n",
    "from sklearn.preprocessing import OneHotEncoder\n",
    "\n",
    "\n",
    "\n"
   ]
  },
  {
   "cell_type": "code",
   "execution_count": 15,
   "metadata": {},
   "outputs": [
    {
     "name": "stdout",
     "output_type": "stream",
     "text": [
      "[[6.66444422]\n",
      " [7.48024157]]\n"
     ]
    }
   ],
   "source": [
    "\n",
    "input = [[2,3,3],[3,3,3]]\n",
    "layer1 = Layer(3,2)\n",
    "layer2 = Layer(2,1)\n",
    "activation1 = layer1.forward(input)\n",
    "activation2 = layer2.forward(activation1)\n",
    "print(activation2)\n",
    "\n",
    "\n",
    "\n",
    "\n",
    "\n",
    "\n"
   ]
  },
  {
   "cell_type": "code",
   "execution_count": 18,
   "metadata": {},
   "outputs": [
    {
     "data": {
      "text/plain": [
       "MSSubClass      0\n",
       "MSZoning        0\n",
       "LotArea         0\n",
       "LotConfig       0\n",
       "BldgType        0\n",
       "OverallCond     0\n",
       "YearBuilt       0\n",
       "YearRemodAdd    0\n",
       "Exterior1st     0\n",
       "BsmtFinSF2      0\n",
       "TotalBsmtSF     0\n",
       "SalePrice       0\n",
       "dtype: int64"
      ]
     },
     "execution_count": 18,
     "metadata": {},
     "output_type": "execute_result"
    }
   ],
   "source": [
    "## Creds to 'https://www.geeksforgeeks.org/house-price-prediction-using-machine-learning-in-python/ for data preprocessing\n",
    "\n",
    " \n",
    "s = (new_dataset.dtypes == 'object')\n",
    "object_cols = list(s[s].index)\n",
    "print(\"Categorical variables:\")\n",
    "print(object_cols)\n",
    "print('No. of. categorical features: ',\n",
    "      len(object_cols))\n",
    "\n",
    "dataset = pd.read_csv('house.csv')\n",
    "dataset.drop(['Id'],\n",
    "             axis=1,\n",
    "             inplace=True)\n",
    "\n",
    "dataset['SalePrice'] = dataset['SalePrice'].fillna(\n",
    "  dataset['SalePrice'].mean())\n",
    "\n",
    "new_dataset = dataset.dropna()\n",
    "OH_encoder = OneHotEncoder(sparse=False)\n",
    "OH_cols = pd.DataFrame(OH_encoder.fit_transform(new_dataset[object_cols]))\n",
    "OH_cols.index = new_dataset.index\n",
    "OH_cols.columns = OH_encoder.get_feature_names()\n",
    "df_final = new_dataset.drop(object_cols, axis=1)\n",
    "df_final = pd.concat([df_final, OH_cols], axis=1)"
   ]
  },
  {
   "cell_type": "code",
   "execution_count": null,
   "metadata": {},
   "outputs": [],
   "source": [
    "\n",
    "## Class For each layer\n",
    "\n",
    "\n",
    "class Layer:\n",
    "    def __init__(self,inputneurons,neurons) -> None:\n",
    "        \n",
    "        self.weights = np.random.rand(inputneurons,neurons)\n",
    "        self.biases = np.random.rand(neurons)\n",
    "        self.runningsumw = np.zeros([inputneurons,neurons])\n",
    "        self.runningsumb = np.zeros([inputneurons,neurons])\n",
    "        self.activation = \n",
    "    def forward(self,input):\n",
    "        return np.dot(input,self.weights)\n",
    "    def backward(self,layerbefore):\n",
    "        # Input is the partial derivative of the layer\n",
    "        \n",
    "        \n",
    "\n",
    "    \n",
    "class NeuralNetwork:\n",
    "    def __init__(self,type,hiddenlayers= [10],batchsize = 32,epoch = 1) -> None:\n",
    "        self.type = type\n",
    "        self.batchsize = batchsize\n",
    "        self.epoch = epoch\n",
    "        self.hiddenlayers = hiddenlayers\n",
    "        self.listoflayers = []\n",
    "    def train(X,y):\n",
    "        # Assert\n",
    "        assert isinstance(X,pd.DataFrame)\n",
    "        for column in df.columns:\n",
    "            column_type = df[column].dtype\n",
    "            \n",
    "            assert column_type == 'float64' or column_type == 'int64'\n",
    "        assert isinstance(y,pd.Series)\n",
    "        sizeofinput = X.shape[1]\n",
    "        for i in range(len(self.hiddenlayers) - 1):\n",
    "            if i == 0:\n",
    "                self.listoflayers.append(Layer(sizeofinput,self.hiddenlayer[i]))\n",
    "            else:\n",
    "                self.listoflayers.append(Layer(sizeofinput,self.hiddenlayerp[i - 1]))            \n",
    "        if y.dtype == 'float64':\n",
    "            self.listoflayers.append(Layer(self.hiddenlayer[-1],1))    \n",
    "        for i in self.listoflayers:\n",
    "            print('i.')\n",
    "\n",
    "\n",
    "    \n",
    "\n",
    "\n",
    "\n",
    "\n",
    "\n",
    "\n",
    "\n",
    "\n",
    "\n",
    "\n",
    "\n",
    "\n",
    "## Given some X and given some Y(Labeled )\n",
    "\n",
    "\n",
    "\n",
    "\n",
    "\n",
    "\n",
    "\n",
    "\n"
   ]
  },
  {
   "cell_type": "code",
   "execution_count": null,
   "metadata": {},
   "outputs": [],
   "source": [
    "\n",
    "\n",
    "\n",
    "\n"
   ]
  }
 ],
 "metadata": {
  "kernelspec": {
   "display_name": "Python 3",
   "language": "python",
   "name": "python3"
  },
  "language_info": {
   "codemirror_mode": {
    "name": "ipython",
    "version": 3
   },
   "file_extension": ".py",
   "mimetype": "text/x-python",
   "name": "python",
   "nbconvert_exporter": "python",
   "pygments_lexer": "ipython3",
   "version": "3.11.3"
  },
  "orig_nbformat": 4
 },
 "nbformat": 4,
 "nbformat_minor": 2
}
